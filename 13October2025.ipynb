{
 "cells": [
  {
   "cell_type": "markdown",
   "id": "860efa36",
   "metadata": {},
   "source": [
    "### **Write a function to verify whether a number is odd or even or equal to zero**"
   ]
  },
  {
   "cell_type": "code",
   "execution_count": 1,
   "id": "0f413c53",
   "metadata": {},
   "outputs": [
    {
     "name": "stdout",
     "output_type": "stream",
     "text": [
      "0 is zero\n",
      "5 is odd\n",
      "10 is even\n"
     ]
    }
   ],
   "source": [
    "def oddevenzero (i):\n",
    "    if i % 2 == 0:\n",
    "        if i == 0: \n",
    "            print(i, \"is zero\")\n",
    "        else: \n",
    "            print(i, \"is even\")\n",
    "    else:\n",
    "        print(i, \"is odd\")\n",
    "\n",
    "# Driver code\n",
    "oddevenzero(0)\n",
    "oddevenzero(5)\n",
    "oddevenzero(10)"
   ]
  },
  {
   "cell_type": "markdown",
   "id": "56069223",
   "metadata": {},
   "source": [
    "### **Input a first name and output a full name based on the first name (suggestion)**"
   ]
  },
  {
   "cell_type": "code",
   "execution_count": 8,
   "id": "69738fda",
   "metadata": {},
   "outputs": [
    {
     "name": "stdout",
     "output_type": "stream",
     "text": [
      "Utkarsh Sharma\n",
      "Vaibhav Kumar\n",
      "Saniya Patani\n",
      "Tanishq Varma\n"
     ]
    }
   ],
   "source": [
    "import random\n",
    "\n",
    "def fullName (firstName):\n",
    "    lastName = ['Sharma', 'Gowda', 'Varma', 'Kumar', 'Naaz', 'Jain', 'Patani']\n",
    "    name = firstName + \" \" + random.choice(lastName)\n",
    "    print(name)\n",
    "\n",
    "# Driver code\n",
    "fullName(\"Utkarsh\")\n",
    "fullName(\"Vaibhav\")\n",
    "fullName(\"Saniya\")\n",
    "fullName(\"Tanishq\")"
   ]
  },
  {
   "cell_type": "markdown",
   "id": "1e27665c",
   "metadata": {},
   "source": [
    "### **Merge two random lists**"
   ]
  },
  {
   "cell_type": "code",
   "execution_count": 10,
   "id": "e1ebb44b",
   "metadata": {},
   "outputs": [
    {
     "name": "stdout",
     "output_type": "stream",
     "text": [
      "First list: Hello\n",
      "Second list: world!\n",
      "Merged list: Hello world!\n"
     ]
    }
   ],
   "source": [
    "def mergeLists(list1, list2):\n",
    "    return list1 + \" \" + list2\n",
    "\n",
    "# Driver code\n",
    "list1 = input(\"Enter the first string:\")\n",
    "list2 = input(\"Enter the second string:\")\n",
    "print(\"First list:\", list1)\n",
    "print(\"Second list:\", list2)\n",
    "print(\"Merged list:\", mergeLists(list1, list2))"
   ]
  }
 ],
 "metadata": {
  "kernelspec": {
   "display_name": ".venv",
   "language": "python",
   "name": "python3"
  },
  "language_info": {
   "codemirror_mode": {
    "name": "ipython",
    "version": 3
   },
   "file_extension": ".py",
   "mimetype": "text/x-python",
   "name": "python",
   "nbconvert_exporter": "python",
   "pygments_lexer": "ipython3",
   "version": "3.13.7"
  }
 },
 "nbformat": 4,
 "nbformat_minor": 5
}
